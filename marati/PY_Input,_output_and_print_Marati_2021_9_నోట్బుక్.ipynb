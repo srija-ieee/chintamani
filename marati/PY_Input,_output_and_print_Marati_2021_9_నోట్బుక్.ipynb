{
  "nbformat": 4,
  "nbformat_minor": 0,
  "metadata": {
    "kernelspec": {
      "display_name": "Python 3",
      "language": "python",
      "name": "python3"
    },
    "language_info": {
      "codemirror_mode": {
        "name": "ipython",
        "version": 3
      },
      "file_extension": ".py",
      "mimetype": "text/x-python",
      "name": "python",
      "nbconvert_exporter": "python",
      "pygments_lexer": "ipython3",
      "version": "3.8.2"
    },
    "colab": {
      "name": " PY_Input, output and print_Marati 2021.9 నోట్బుక్",
      "provenance": [],
      "collapsed_sections": [
        "yYc5p2xhYS7i",
        "T-Qua1WBEtvM"
      ]
    }
  },
  "cells": [
    {
      "cell_type": "markdown",
      "metadata": {
        "id": "p294gsLmfrBa"
      },
      "source": [
        "# **हिंदवी प्रोग्रामिंग सिस्टम 2021.9**\n",
        "\n",
        "हिंदवी प्रोग्रामिंग सिस्टम 2021.9<br>\n",
        "Copyright (C) 2004-2021 Abhishek Choudhary, Dr Srija Katta<br>\n",
        "AyeSPL license. NO WARRANTY.\n"
      ]
    },
    {
      "cell_type": "markdown",
      "metadata": {
        "id": "lQ_WSuz3xiYg"
      },
      "source": [
        "### ***ही नोटबुक चालवण्यासाठी खालीलपैकी एका बटणावर उजवे क्लिक करा आणि नवीन टॅबमध्ये उघडा***\n",
        "\n",
        "\n",
        "### ***To run this notebook right click on one of the buttons below and open in a new tab***"
      ]
    },
    {
      "cell_type": "code",
      "metadata": {
        "cellView": "form",
        "id": "uwiyUMBnxjY3",
        "colab": {
          "base_uri": "https://localhost:8080/",
          "height": 53
        },
        "outputId": "86fc3a7e-bf1e-4198-98ee-b8be40d2f1c4"
      },
      "source": [
        "#@title Click on the button below\n",
        "%%html\n",
        "<a target=”_blank” href=\"https://colab.research.google.com/github/srija-ieee/chintamani/blob/master/Notebooks/PY_%E0%B0%87%E0%B0%A8%E0%B1%8D_%E0%B0%AA%E0%B1%81%E0%B0%9F%E0%B1%8D%2C_%E0%B0%85%E0%B0%B5%E0%B1%81%E0%B0%9F%E0%B1%8D_%E0%B0%AA%E0%B1%81%E0%B0%9F%E0%B1%8D_%E0%B0%AE%E0%B0%B0%E0%B0%BF%E0%B0%AF%E0%B1%81_%E0%B0%AA%E0%B1%8D%E0%B0%B0%E0%B0%BF%E0%B0%82%E0%B0%9F%E0%B1%8D_%E0%B0%A4%E0%B1%86%E0%B0%B2%E0%B1%81%E0%B0%97%E0%B1%81_%E0%B0%B9%E0%B0%BF%E0%B0%82%E0%B0%A6%E0%B0%B5%E0%B0%BF_2021_9_%E0%B0%A8%E0%B1%8B%E0%B0%9F%E0%B1%8D%E0%B0%AC%E0%B1%81%E0%B0%95%E0%B1%8D.ipynb\"><img src=\"https://colab.research.google.com/assets/colab-badge.svg\" alt=\"Open In Colab\" style=\"height:32px; width:160px;\"></a>\n",
        "\n"
      ],
      "execution_count": null,
      "outputs": [
        {
          "output_type": "display_data",
          "data": {
            "text/html": [
              "<a target=”_blank” href=\"https://colab.research.google.com/github/srija-ieee/chintamani/blob/master/Notebooks/PY_%E0%B0%87%E0%B0%A8%E0%B1%8D_%E0%B0%AA%E0%B1%81%E0%B0%9F%E0%B1%8D%2C_%E0%B0%85%E0%B0%B5%E0%B1%81%E0%B0%9F%E0%B1%8D_%E0%B0%AA%E0%B1%81%E0%B0%9F%E0%B1%8D_%E0%B0%AE%E0%B0%B0%E0%B0%BF%E0%B0%AF%E0%B1%81_%E0%B0%AA%E0%B1%8D%E0%B0%B0%E0%B0%BF%E0%B0%82%E0%B0%9F%E0%B1%8D_%E0%B0%A4%E0%B1%86%E0%B0%B2%E0%B1%81%E0%B0%97%E0%B1%81_%E0%B0%B9%E0%B0%BF%E0%B0%82%E0%B0%A6%E0%B0%B5%E0%B0%BF_2021_9_%E0%B0%A8%E0%B1%8B%E0%B0%9F%E0%B1%8D%E0%B0%AC%E0%B1%81%E0%B0%95%E0%B1%8D.ipynb\"><img src=\"https://colab.research.google.com/assets/colab-badge.svg\" alt=\"Open In Colab\" style=\"height:32px; width:160px;\"></a>\n"
            ],
            "text/plain": [
              "<IPython.core.display.HTML object>"
            ]
          },
          "metadata": {}
        }
      ]
    },
    {
      "cell_type": "code",
      "metadata": {
        "cellView": "form",
        "id": "hWevNBfRxtVb",
        "colab": {
          "base_uri": "https://localhost:8080/",
          "height": 53
        },
        "outputId": "aa24be59-7f28-4ac8-f769-3a364e072512"
      },
      "source": [
        "#@title Click on the button below\n",
        "%%html\n",
        "<a target=”_blank” href=\"https://mybinder.org/v2/gh/srija-ieee/chintamani/master/?filepath=Notebooks/PY_%E0%B0%87%E0%B0%A8%E0%B1%8D_%E0%B0%AA%E0%B1%81%E0%B0%9F%E0%B1%8D%2C_%E0%B0%85%E0%B0%B5%E0%B1%81%E0%B0%9F%E0%B1%8D_%E0%B0%AA%E0%B1%81%E0%B0%9F%E0%B1%8D_%E0%B0%AE%E0%B0%B0%E0%B0%BF%E0%B0%AF%E0%B1%81_%E0%B0%AA%E0%B1%8D%E0%B0%B0%E0%B0%BF%E0%B0%82%E0%B0%9F%E0%B1%8D_%E0%B0%A4%E0%B1%86%E0%B0%B2%E0%B1%81%E0%B0%97%E0%B1%81_%E0%B0%B9%E0%B0%BF%E0%B0%82%E0%B0%A6%E0%B0%B5%E0%B0%BF_2021_9_%E0%B0%A8%E0%B1%8B%E0%B0%9F%E0%B1%8D%E0%B0%AC%E0%B1%81%E0%B0%95%E0%B1%8D.ipynb\"><img src=\"https://mybinder.org/badge_logo.svg\" alt=\"Open In Colab\" style=\"height:32px; width:160px;\"></a>\n",
        "\n"
      ],
      "execution_count": null,
      "outputs": [
        {
          "output_type": "display_data",
          "data": {
            "text/html": [
              "<a target=”_blank” href=\"https://mybinder.org/v2/gh/srija-ieee/chintamani/master/?filepath=Notebooks/PY_%E0%B0%87%E0%B0%A8%E0%B1%8D_%E0%B0%AA%E0%B1%81%E0%B0%9F%E0%B1%8D%2C_%E0%B0%85%E0%B0%B5%E0%B1%81%E0%B0%9F%E0%B1%8D_%E0%B0%AA%E0%B1%81%E0%B0%9F%E0%B1%8D_%E0%B0%AE%E0%B0%B0%E0%B0%BF%E0%B0%AF%E0%B1%81_%E0%B0%AA%E0%B1%8D%E0%B0%B0%E0%B0%BF%E0%B0%82%E0%B0%9F%E0%B1%8D_%E0%B0%A4%E0%B1%86%E0%B0%B2%E0%B1%81%E0%B0%97%E0%B1%81_%E0%B0%B9%E0%B0%BF%E0%B0%82%E0%B0%A6%E0%B0%B5%E0%B0%BF_2021_9_%E0%B0%A8%E0%B1%8B%E0%B0%9F%E0%B1%8D%E0%B0%AC%E0%B1%81%E0%B0%95%E0%B1%8D.ipynb\"><img src=\"https://mybinder.org/badge_logo.svg\" alt=\"Open In Colab\" style=\"height:32px; width:160px;\"></a>\n"
            ],
            "text/plain": [
              "<IPython.core.display.HTML object>"
            ]
          },
          "metadata": {}
        }
      ]
    },
    {
      "cell_type": "markdown",
      "metadata": {
        "id": "XDYyLPCa1mzY"
      },
      "source": [
        "# तेलुगू हिंदवी नोटबुकची ओळख\n",
        "# Introduction to Telugu Hindawi Notebook\n"
      ]
    },
    {
      "cell_type": "code",
      "metadata": {
        "colab": {
          "base_uri": "https://localhost:8080/",
          "height": 335
        },
        "id": "zrmDTStc57gQ",
        "outputId": "16ef95f3-b2ad-42c3-ef9f-aed4b7da6a5b"
      },
      "source": [
        "\n",
        "#@markdown ###### **👈🏾 व्हिडिओ प्रदर्शित करण्यासाठी प्ले बटणावर क्लिक करा (▶) 👈🏾**<br>\n",
        "\n",
        "%%html\n",
        "<iframe width=\"560\" height=\"315\" src=\"https://www.youtube.com/embed/xYNXY8eWCsw\" title=\"YouTube video player\" frameborder=\"0\" allow=\"accelerometer; autoplay; clipboard-write; encrypted-media; gyroscope; picture-in-picture\" allowfullscreen></iframe>"
      ],
      "execution_count": null,
      "outputs": [
        {
          "output_type": "display_data",
          "data": {
            "text/html": [
              "<iframe width=\"560\" height=\"315\" src=\"https://www.youtube.com/embed/xYNXY8eWCsw\" title=\"YouTube video player\" frameborder=\"0\" allow=\"accelerometer; autoplay; clipboard-write; encrypted-media; gyroscope; picture-in-picture\" allowfullscreen></iframe>"
            ],
            "text/plain": [
              "<IPython.core.display.HTML object>"
            ]
          },
          "metadata": {}
        }
      ]
    },
    {
      "cell_type": "markdown",
      "metadata": {
        "id": "yYc5p2xhYS7i"
      },
      "source": [
        "#हिंदवी प्रोग्रामिंग सिस्टीम\n",
        "हिंदवी प्रोग्रामिंग सिस्टीम प्राथमिक स्तरापासून GATE संगणक अभियांत्रिकी स्तरापर्यंत मातृभाषेत प्रोग्रामिंग व्यवहार्य करते. सुपर कॉम्प्युटिंग, IoT, रोबोटिक्स, कृत्रिम बुद्धिमत्ता, क्वांटम कॉम्प्युटिंग आणि मातृभाषेत डीएनए कॉम्प्युटिंगमध्ये हिंदवीचा वापर करून संशोधन आणि प्रोग्रामिंग शक्य आहे. हे स्वप्न नाही - हे वास्तव आहे! आत्ताच त्याची ऑनलाइन पडताळणी करा. कोणत्याही डिजिटल विभाजन, संज्ञानात्मक विभाजन (मातृभाषेचा वापर करून एआय विकसित करण्यास असमर्थता), किंवा भाषिक विभाजन न करता तांत्रिक एकवचनेकडे जाऊया.\n",
        "\n",
        "अस्वीकरण: गेटचा उल्लेख फक्त हिंदवी प्रोग्रामिंग सिस्टमच्या पूर्णतेच्या संदर्भात आहे. आम्ही GATE परीक्षांच्या संचालनाशी संबंधित नाही. 2021 पर्यंत GATE CSE फक्त प्रोग्रामिंग भाषांचे मानक प्रकार वापरते, हिंदी आवृत्ती नाही. बाह्य दुवे या उपयुक्ततेच्या लेखकांद्वारे नियंत्रित केले जात नाहीत."
      ]
    },
    {
      "cell_type": "markdown",
      "metadata": {
        "id": "FIS6ImgwoUKp"
      },
      "source": [
        "Hindawi Programming System makes programming feasible in mother tongue from primary levels to GATE Computer Engineering level. Research and programming is feasible using Hindawi in supercomputing, IoT, robotics, artificial intelligence, quantum computing and also DNA computing is possible in mother tongue. This is not a dream - its a reality! Verify it online right now. Lets approach the technological singularity without any digital divide, cognitive divide (inability of developing AI using mother tongue), or linguistic divide.\n",
        "\n",
        "Disclaimer: GATE is only mentioned with reference to the completeness of Hindawi Programming System. We are not associated with conduct of the GATE examinations. As of 2021 GATE CSE only uses the standard forms of the programming languages and not the Hindi version. External links are not controlled by the authors of this utility."
      ]
    },
    {
      "cell_type": "markdown",
      "metadata": {
        "id": "T-Qua1WBEtvM"
      },
      "source": [
        "# आरंभ करा(Initialize)\n",
        "\n",
        "हे ज्युपिटर नोटबुक वातावरणात हिंदवीला सक्षम करते. हळू प्रणालींवर काही मिनिटे लागू शकतात. बहुतेक मेघ वातावरणात हे काही सेकंदात पूर्ण होते.\n",
        "\n",
        "This enables Hindawi in the Jupyter notebook environment. It may take a few minutes on slower systems. On most cloud environments this completes in few seconds.\n",
        "\n",
        "👈 हा सेल सक्रिय करण्यासाठी प्ले बटण () दाबा"
      ]
    },
    {
      "cell_type": "code",
      "metadata": {
        "id": "fEf5G-CzMb3M",
        "colab": {
          "base_uri": "https://localhost:8080/"
        },
        "outputId": "3bbb875a-dde1-4c6e-fac9-eff7e982530e"
      },
      "source": [
        "#@title సంస్థాపన (Installation) { vertical-output: true }\n",
        "#@markdown 👈 ఈ సెల్‌ను ప్లే చేయడానికి బటన్‌ను ప్లే చేయండి (▶) నొక్కండి\n",
        "#@markdown <br>\n",
        "#@markdown ఇతర కణాలను ఉపయోగించటానికి ముందు ఇది కనీసం ఒక్కసారైనా అమలు చేయాలి\n",
        "#@markdown <br>\n",
        "#@markdown This must be run at least once before the other cells can be used\n",
        "%%shell\n",
        " \n",
        "#Installing prerequisites...\n",
        "printf \"ముందస్తు అవసరాలను ఇన్‌స్టాల్ చేస్తోంది ... \"\n",
        "sudo apt install gawk flex bison php-iconv screen &>/dev/null\n",
        "#Done\n",
        "echo \"పూర్తయింది\"\n",
        " \n",
        "printf \"Hindawi2020 రిపోజిటరీ క్లోన్ చేయబడుతోంది... \"\n",
        "git clone https://github.com/hindawiai/chintamani hindawi2020 &>/dev/null\n",
        "#Done\n",
        "echo \"పూర్తయింది\"\n",
        " \n",
        "if [ 0 -lt $(pip3 freeze | grep google.colab | wc -l) ]\n",
        "then\n",
        "  #Executing preamble for non-docker platforms...\n",
        "  echo \"ఉపోద్ఘాతాన్ని అమలు చేస్తోంది\"\n",
        "  cd hindawi2020\n",
        " \n",
        "  git checkout telugu\n",
        "\n",
        "  for n in Romenagri\\\n",
        "          Hindawi/guru Hindawi/hindrv Hindawi/kritrima Hindawi/praatha\\\n",
        "          Hindawi/shabda Hindawi/shraeni Hindawi/wyaaka Hindawi/yantra\\\n",
        "          Hindawi/others/fasm Hindawi/soochee;\n",
        "  do\n",
        "    pushd $n &>/dev/null\n",
        "    #Building in $n...\n",
        "    printf \"$n లో ప్రోగ్రామ్‌ను కంపైల్ చేస్తోంది ... \"\n",
        "    make all &>/dev/null\n",
        "    make install &>/dev/null\n",
        "    make clean_all &>/dev/null\n",
        "    #Done\n",
        "    echo \"పూర్తయింది\"\n",
        "    popd &>/dev/null\n",
        "  done\n",
        "  #Completed preamble for non-docker platforms.\n",
        "  echo \"ముందుమాట పూర్తయింది\"\n",
        "fi\n",
        "#TBD: APCISR not built"
      ],
      "execution_count": null,
      "outputs": [
        {
          "output_type": "stream",
          "name": "stdout",
          "text": [
            "ముందస్తు అవసరాలను ఇన్‌స్టాల్ చేస్తోంది ... పూర్తయింది\n",
            "Hindawi2020 రిపోజిటరీ క్లోన్ చేయబడుతోంది... పూర్తయింది\n",
            "ఉపోద్ఘాతాన్ని అమలు చేస్తోంది\n",
            "D\tHindawi/guru/c2h\n",
            "D\tHindawi/guru/c2h.lex\n",
            "D\tHindawi/guru/h2c\n",
            "D\tHindawi/guru/h2c.lex\n",
            "D\tHindawi/guru/lexyy.c\n",
            "D\tHindawi/soochee/h2py\n",
            "D\tHindawi/soochee/h2py.lex\n",
            "M\tHindawi/soochee/hintmp.py\n",
            "D\tHindawi/soochee/lexyy.c\n",
            "D\tHindawi/soochee/py2h\n",
            "D\tHindawi/soochee/py2h.lex\n",
            "D\tRomenagri/acii2cf\n",
            "D\tRomenagri/acii2hin\n",
            "D\tRomenagri/acii2hin.o\n",
            "D\tRomenagri/acii2pcf\n",
            "D\tRomenagri/acii2rmn\n",
            "D\tRomenagri/acii2rmn.o\n",
            "D\tRomenagri/acii2uni\n",
            "D\tRomenagri/fixuninum\n",
            "D\tRomenagri/lexyy.c\n",
            "D\tRomenagri/librmnagri.a\n",
            "D\tRomenagri/main.o\n",
            "D\tRomenagri/rmn2acii\n",
            "D\tRomenagri/rmn2acii.o\n",
            "D\tRomenagri/stack.o\n",
            "D\tRomenagri/testme\n",
            "D\tRomenagri/uni2acii\n",
            "Already on 'telugu'\n",
            "Your branch is up to date with 'origin/telugu'.\n",
            "Romenagri లో ప్రోగ్రామ్‌ను కంపైల్ చేస్తోంది ... పూర్తయింది\n",
            "Hindawi/guru లో ప్రోగ్రామ్‌ను కంపైల్ చేస్తోంది ... పూర్తయింది\n",
            "Hindawi/hindrv లో ప్రోగ్రామ్‌ను కంపైల్ చేస్తోంది ... పూర్తయింది\n",
            "Hindawi/kritrima లో ప్రోగ్రామ్‌ను కంపైల్ చేస్తోంది ... పూర్తయింది\n",
            "Hindawi/praatha లో ప్రోగ్రామ్‌ను కంపైల్ చేస్తోంది ... పూర్తయింది\n",
            "Hindawi/shabda లో ప్రోగ్రామ్‌ను కంపైల్ చేస్తోంది ... పూర్తయింది\n",
            "Hindawi/shraeni లో ప్రోగ్రామ్‌ను కంపైల్ చేస్తోంది ... పూర్తయింది\n",
            "Hindawi/wyaaka లో ప్రోగ్రామ్‌ను కంపైల్ చేస్తోంది ... పూర్తయింది\n",
            "Hindawi/yantra లో ప్రోగ్రామ్‌ను కంపైల్ చేస్తోంది ... పూర్తయింది\n",
            "Hindawi/others/fasm లో ప్రోగ్రామ్‌ను కంపైల్ చేస్తోంది ... పూర్తయింది\n",
            "Hindawi/soochee లో ప్రోగ్రామ్‌ను కంపైల్ చేస్తోంది ... పూర్తయింది\n",
            "ముందుమాట పూర్తయింది\n"
          ]
        },
        {
          "output_type": "execute_result",
          "data": {
            "text/plain": [
              ""
            ]
          },
          "metadata": {},
          "execution_count": 44
        }
      ]
    },
    {
      "cell_type": "markdown",
      "metadata": {
        "id": "L6aQqaL9LFad"
      },
      "source": [
        "# \"पायथन मध्ये इनपुट, आउटपुट आणि प्रिंट\" (\"Input, Output and Print in Python\")"
      ]
    },
    {
      "cell_type": "code",
      "metadata": {
        "id": "yn6T0cS0PPMK",
        "colab": {
          "base_uri": "https://localhost:8080/",
          "height": 335
        },
        "outputId": "651356f3-e7a1-40d1-d1dd-bd88411b213e"
      },
      "source": [
        "\n",
        "#@markdown ###### **👈🏾 व्हिडिओ प्रदर्शित करण्यासाठी प्ले बटणावर क्लिक करा (▶) 👈🏾**<br>\n",
        "\n",
        "%%html\n",
        "<iframe width=\"560\" height=\"315\" src=\"https://www.youtube.com/embed/EP0cHLAuln0?start=3\" title=\"YouTube video player\" frameborder=\"0\" allow=\"accelerometer; autoplay; clipboard-write; encrypted-media; gyroscope; picture-in-picture\" allowfullscreen></iframe>"
      ],
      "execution_count": null,
      "outputs": [
        {
          "output_type": "display_data",
          "data": {
            "text/html": [
              "<iframe width=\"560\" height=\"315\" src=\"https://www.youtube.com/embed/EP0cHLAuln0?start=3\" title=\"YouTube video player\" frameborder=\"0\" allow=\"accelerometer; autoplay; clipboard-write; encrypted-media; gyroscope; picture-in-picture\" allowfullscreen></iframe>"
            ],
            "text/plain": [
              "<IPython.core.display.HTML object>"
            ]
          },
          "metadata": {}
        }
      ]
    },
    {
      "cell_type": "markdown",
      "metadata": {
        "id": "R_33KyYql-pO"
      },
      "source": [
        "# तेलगू मध्ये पायथन वर अभ्यासक्रम (Course on Python in Telugu)"
      ]
    },
    {
      "cell_type": "code",
      "metadata": {
        "colab": {
          "base_uri": "https://localhost:8080/",
          "height": 821
        },
        "id": "MlYgJf4_l2uZ",
        "outputId": "d5b86323-fd85-4c97-e150-0260139d76f1"
      },
      "source": [
        "#@title येथे नोंदणी करा(Enroll here)\n",
        "\n",
        "## Lesson\n",
        "#@markdown ###### **👈🏾सामग्री प्रदर्शित करण्यासाठी (▶) प्ले बटणावर क्लिक करा 👈🏾**<br>\n",
        "#@markdown ##### कृपया तुमचे Gmail वापरून पुढील सेलमध्ये एम्बेड केलेल्या कोर्सवर नोंदणी करा\n",
        "\n",
        "#@markdown ###### **👈🏾 Click on ( ▶ ) the play button to display content 👈🏾**<br>\n",
        "#@markdown ##### Please register on the course embedded in the next cell using your Gmail \n",
        "from IPython.display import IFrame\n",
        "\n",
        "IFrame('https://ayeai.xyz/site/','1000','800')"
      ],
      "execution_count": null,
      "outputs": [
        {
          "output_type": "execute_result",
          "data": {
            "text/html": [
              "\n",
              "        <iframe\n",
              "            width=\"1000\"\n",
              "            height=\"800\"\n",
              "            src=\"https://ayeai.xyz/site/\"\n",
              "            frameborder=\"0\"\n",
              "            allowfullscreen\n",
              "        ></iframe>\n",
              "        "
            ],
            "text/plain": [
              "<IPython.lib.display.IFrame at 0x7f707be1b710>"
            ]
          },
          "metadata": {},
          "execution_count": 2
        }
      ]
    },
    {
      "cell_type": "markdown",
      "metadata": {
        "id": "0GHh6DaKOqIH"
      },
      "source": [
        "# सराव क्षेत्र (Practice Area)\n"
      ]
    },
    {
      "cell_type": "markdown",
      "metadata": {
        "id": "G8rn72FkE3az"
      },
      "source": [
        "#\"प्रिंट\" कमांडसाठी उदाहरण प्रोग्राम (Example program for \"print\" command)\n",
        "\n"
      ]
    },
    {
      "cell_type": "code",
      "metadata": {
        "colab": {
          "base_uri": "https://localhost:8080/"
        },
        "id": "47QF5pNmJgpM",
        "outputId": "b8516bfc-d9c3-44a1-bd9c-5c18b2f5d9b3"
      },
      "source": [
        "#@title **कार्यक्रम संपादन(program editing)**\n",
        "#@markdown संपादित करण्यासाठी डबल क्लिक करा किंवा __enter__\n",
        "#@markdown <br>\n",
        "#@markdown Double-click or press __Enter__ to edit\n",
        "%%writefile hindawi2020/Hindawi/soochee/myPY.uhin\n",
        "# या ओळीच्या खाली तुमचा कोड लिहा\n",
        "#Input/output/print. \n",
        "\n",
        "# संगणकाद्वारे प्राप्त केलेली माहिती \"इनपुट\" आहे आणि त्याचे परिणाम\n",
        "# प्रोटोटाइपचे आऊटपुट स्क्रीनवर छापलेले आहे हे दाखवण्यासाठी आम्ही \"प्रिंट\" वापरतो.\n",
        "# The information recieved by the computer is \"input\" and the results it \n",
        "# use the command \"Print\"\n",
        "\n",
        "#उदाहरण:\n",
        "#Example:\n",
        "ముద్రించు(\"ఇది, నమూనా, అవుట్‌పుట్\")\n",
        "\n",
        "\n",
        "# संकल्पना टीप:\n",
        "# काही माहिती \"प्रिंट\" करणे म्हणजे ती माहिती डिस्प्लेवरील आउटपुटवर आउटपुट करणे.\n",
        "# पारंपारिकपणे, IO द्वारे वापरल्या जाणाऱ्या प्रिंटरसाठी संगणक इंटरफेस. म्हणून, जरी\n",
        "# माहिती व्हिडिओ स्क्रीनवर प्रदर्शित केली जाते, जसे की मॉनिटर\n",
        "# आज्ञा आहे ती प्रिंट करा\n",
        "# Concept note:\n",
        "# To \"print\" some information is to output that information on a display.\n",
        "# Traditionally, computer interfaces for IO used printers. Hence, even if\n",
        "# the information is displayed on a video screen such as a monitor, the \n",
        "# command is to print it\n",
        "\n",
        "\n",
        "\n",
        "#पायथनमध्ये काही माहिती छापण्यासाठी, \"प्रिंट\" कमांड वापरा\n",
        "# To print some information in Python, use the command \"print\"\n",
        "\n",
        "\n"
      ],
      "execution_count": null,
      "outputs": [
        {
          "output_type": "stream",
          "name": "stdout",
          "text": [
            "Overwriting hindawi2020/Hindawi/soochee/myPY.uhin\n"
          ]
        }
      ]
    },
    {
      "cell_type": "code",
      "metadata": {
        "colab": {
          "base_uri": "https://localhost:8080/"
        },
        "id": "qoCVGZ2tKNW3",
        "outputId": "0f04557d-9504-44a5-b5db-521bdbc1348b"
      },
      "source": [
        "%%shell\n",
        "#@title ### **शैली प्राथमिकचा कार्यक्रम अंमलबजावणी(program execution)**\n",
        "#@markdown ### या नोटबुकच्या फाईल ब्राउझरचा वापर करून संकलित प्रोग्राम डाउनलोड केला जाऊ शकतो. फाइल hin.exe\n",
        "#@markdown <br>\n",
        "#Do not edit below this line\n",
        "#या ओळीच्या खाली संपादित करू नका\n",
        "cd hindawi2020/Hindawi/soochee/\n",
        "./hinpy myPY.uhin"
      ],
      "execution_count": null,
      "outputs": [
        {
          "output_type": "stream",
          "name": "stdout",
          "text": [
            "ఇది, నమूనా, అవుట్\fపుట్\n"
          ]
        },
        {
          "output_type": "execute_result",
          "data": {
            "text/plain": [
              ""
            ]
          },
          "metadata": {},
          "execution_count": 48
        }
      ]
    },
    {
      "cell_type": "markdown",
      "metadata": {
        "id": "utA4hZ7_BFgN"
      },
      "source": [
        "#हिंदवी संकेतस्थळाला भेट द्या\n",
        "# Visit Hindawi website \n",
        "हिंदवी प्रोग्रामिंग सिस्टमबद्दल अधिक अद्यतनांसाठीhttps://hindawiai.github.io/ भेट\n",
        "For more updates on Hindawi Programming System visit https://hindawiai.github.io/"
      ]
    },
    {
      "cell_type": "code",
      "metadata": {
        "colab": {
          "base_uri": "https://localhost:8080/",
          "height": 425
        },
        "id": "hP7jjq5eAIsf",
        "outputId": "d39e7666-3c3e-4db6-b588-c0e6aa63d587"
      },
      "source": [
        "\n",
        "#@markdown ###### **👈🏾 व्हिडिओ प्रदर्शित करण्यासाठी प्ले बटणावर क्लिक करा (▶) 👈🏾**<br>\n",
        "\n",
        "%%html\n",
        "<iframe width=\"1100\" height=\"400\" src=\"https://hindawiai.github.io/\" allowfullscreen></iframe>"
      ],
      "execution_count": null,
      "outputs": [
        {
          "output_type": "display_data",
          "data": {
            "text/html": [
              "<iframe width=\"1100\" height=\"400\" src=\"https://hindawiai.github.io/\" allowfullscreen></iframe>"
            ],
            "text/plain": [
              "<IPython.core.display.HTML object>"
            ]
          },
          "metadata": {}
        }
      ]
    }
  ]
}