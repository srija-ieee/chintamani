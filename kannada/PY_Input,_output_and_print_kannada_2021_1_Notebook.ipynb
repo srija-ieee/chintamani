{
  "nbformat": 4,
  "nbformat_minor": 0,
  "metadata": {
    "kernelspec": {
      "display_name": "Python 3",
      "language": "python",
      "name": "python3"
    },
    "language_info": {
      "codemirror_mode": {
        "name": "ipython",
        "version": 3
      },
      "file_extension": ".py",
      "mimetype": "text/x-python",
      "name": "python",
      "nbconvert_exporter": "python",
      "pygments_lexer": "ipython3",
      "version": "3.8.2"
    },
    "colab": {
      "name": "PY_Input, output and print_kannada 2021.1 Notebook",
      "provenance": [],
      "collapsed_sections": [
        "yYc5p2xhYS7i",
        "T-Qua1WBEtvM"
      ]
    }
  },
  "cells": [
    {
      "cell_type": "markdown",
      "metadata": {
        "id": "p294gsLmfrBa"
      },
      "source": [
        "# **ಹಿಂದವಿ ಪ್ರೋಗ್ರಾಮಿಂಗ್ ಸಿಸ್ಟಮ್ 2021.1** 2021.9 \n",
        "\n",
        "Hindawi Programming System 2021.9<br>\n",
        "Copyright (C) 2004-2021 Abhishek Choudhary, Dr Srija Katta<br>\n",
        "AyeSPL license. NO WARRANTY.\n"
      ]
    },
    {
      "cell_type": "markdown",
      "metadata": {
        "id": "lQ_WSuz3xiYg"
      },
      "source": [
        "### ***ಈ ನೋಟ್‌ಬುಕ್ ಅನ್ನು ಚಲಾಯಿಸಲು ಕೆಳಗಿನ ಬಟನ್ ಮೇಲೆ ಬಲ ಕ್ಲಿಕ್ ಮಾಡಿ ಮತ್ತು ಹೊಸ ಟ್ಯಾಬ್‌ನಲ್ಲಿ ತೆರೆಯಿರಿ***\n",
        "\n",
        "\n",
        "### ***To run this notebook right click on one of the buttons below and open in a new tab***"
      ]
    },
    {
      "cell_type": "code",
      "metadata": {
        "cellView": "form",
        "id": "uwiyUMBnxjY3",
        "colab": {
          "base_uri": "https://localhost:8080/",
          "height": 53
        },
        "outputId": "43f7c39a-7403-4467-e165-8979e43a4bd2"
      },
      "source": [
        "#@title Click on the button below\n",
        "%%html\n",
        "<a target=”_blank” href=\"https://colab.research.google.com/github/srija-ieee/chintamani/blob/master/Notebooks/PY_%E0%B0%87%E0%B0%A8%E0%B1%8D_%E0%B0%AA%E0%B1%81%E0%B0%9F%E0%B1%8D%2C_%E0%B0%85%E0%B0%B5%E0%B1%81%E0%B0%9F%E0%B1%8D_%E0%B0%AA%E0%B1%81%E0%B0%9F%E0%B1%8D_%E0%B0%AE%E0%B0%B0%E0%B0%BF%E0%B0%AF%E0%B1%81_%E0%B0%AA%E0%B1%8D%E0%B0%B0%E0%B0%BF%E0%B0%82%E0%B0%9F%E0%B1%8D_%E0%B0%A4%E0%B1%86%E0%B0%B2%E0%B1%81%E0%B0%97%E0%B1%81_%E0%B0%B9%E0%B0%BF%E0%B0%82%E0%B0%A6%E0%B0%B5%E0%B0%BF_2021_9_%E0%B0%A8%E0%B1%8B%E0%B0%9F%E0%B1%8D%E0%B0%AC%E0%B1%81%E0%B0%95%E0%B1%8D.ipynb\"><img src=\"https://colab.research.google.com/assets/colab-badge.svg\" alt=\"Open In Colab\" style=\"height:32px; width:160px;\"></a>\n",
        "\n"
      ],
      "execution_count": null,
      "outputs": [
        {
          "output_type": "display_data",
          "data": {
            "text/html": [
              "<a target=”_blank” href=\"https://colab.research.google.com/github/srija-ieee/chintamani/blob/master/Notebooks/PY_%E0%B0%87%E0%B0%A8%E0%B1%8D_%E0%B0%AA%E0%B1%81%E0%B0%9F%E0%B1%8D%2C_%E0%B0%85%E0%B0%B5%E0%B1%81%E0%B0%9F%E0%B1%8D_%E0%B0%AA%E0%B1%81%E0%B0%9F%E0%B1%8D_%E0%B0%AE%E0%B0%B0%E0%B0%BF%E0%B0%AF%E0%B1%81_%E0%B0%AA%E0%B1%8D%E0%B0%B0%E0%B0%BF%E0%B0%82%E0%B0%9F%E0%B1%8D_%E0%B0%A4%E0%B1%86%E0%B0%B2%E0%B1%81%E0%B0%97%E0%B1%81_%E0%B0%B9%E0%B0%BF%E0%B0%82%E0%B0%A6%E0%B0%B5%E0%B0%BF_2021_9_%E0%B0%A8%E0%B1%8B%E0%B0%9F%E0%B1%8D%E0%B0%AC%E0%B1%81%E0%B0%95%E0%B1%8D.ipynb\"><img src=\"https://colab.research.google.com/assets/colab-badge.svg\" alt=\"Open In Colab\" style=\"height:32px; width:160px;\"></a>\n"
            ],
            "text/plain": [
              "<IPython.core.display.HTML object>"
            ]
          },
          "metadata": {}
        }
      ]
    },
    {
      "cell_type": "code",
      "metadata": {
        "cellView": "form",
        "id": "hWevNBfRxtVb",
        "colab": {
          "base_uri": "https://localhost:8080/",
          "height": 53
        },
        "outputId": "5b0b79de-840e-41aa-a5fb-f41608205b3b"
      },
      "source": [
        "#@title Click on the button below\n",
        "%%html\n",
        "<a target=”_blank” href=\"https://mybinder.org/v2/gh/srija-ieee/chintamani/master/?filepath=Notebooks/PY_%E0%B0%87%E0%B0%A8%E0%B1%8D_%E0%B0%AA%E0%B1%81%E0%B0%9F%E0%B1%8D%2C_%E0%B0%85%E0%B0%B5%E0%B1%81%E0%B0%9F%E0%B1%8D_%E0%B0%AA%E0%B1%81%E0%B0%9F%E0%B1%8D_%E0%B0%AE%E0%B0%B0%E0%B0%BF%E0%B0%AF%E0%B1%81_%E0%B0%AA%E0%B1%8D%E0%B0%B0%E0%B0%BF%E0%B0%82%E0%B0%9F%E0%B1%8D_%E0%B0%A4%E0%B1%86%E0%B0%B2%E0%B1%81%E0%B0%97%E0%B1%81_%E0%B0%B9%E0%B0%BF%E0%B0%82%E0%B0%A6%E0%B0%B5%E0%B0%BF_2021_9_%E0%B0%A8%E0%B1%8B%E0%B0%9F%E0%B1%8D%E0%B0%AC%E0%B1%81%E0%B0%95%E0%B1%8D.ipynb\"><img src=\"https://mybinder.org/badge_logo.svg\" alt=\"Open In Colab\" style=\"height:32px; width:160px;\"></a>\n",
        "\n"
      ],
      "execution_count": null,
      "outputs": [
        {
          "output_type": "display_data",
          "data": {
            "text/html": [
              "<a target=”_blank” href=\"https://mybinder.org/v2/gh/srija-ieee/chintamani/master/?filepath=Notebooks/PY_%E0%B0%87%E0%B0%A8%E0%B1%8D_%E0%B0%AA%E0%B1%81%E0%B0%9F%E0%B1%8D%2C_%E0%B0%85%E0%B0%B5%E0%B1%81%E0%B0%9F%E0%B1%8D_%E0%B0%AA%E0%B1%81%E0%B0%9F%E0%B1%8D_%E0%B0%AE%E0%B0%B0%E0%B0%BF%E0%B0%AF%E0%B1%81_%E0%B0%AA%E0%B1%8D%E0%B0%B0%E0%B0%BF%E0%B0%82%E0%B0%9F%E0%B1%8D_%E0%B0%A4%E0%B1%86%E0%B0%B2%E0%B1%81%E0%B0%97%E0%B1%81_%E0%B0%B9%E0%B0%BF%E0%B0%82%E0%B0%A6%E0%B0%B5%E0%B0%BF_2021_9_%E0%B0%A8%E0%B1%8B%E0%B0%9F%E0%B1%8D%E0%B0%AC%E0%B1%81%E0%B0%95%E0%B1%8D.ipynb\"><img src=\"https://mybinder.org/badge_logo.svg\" alt=\"Open In Colab\" style=\"height:32px; width:160px;\"></a>\n"
            ],
            "text/plain": [
              "<IPython.core.display.HTML object>"
            ]
          },
          "metadata": {}
        }
      ]
    },
    {
      "cell_type": "markdown",
      "metadata": {
        "id": "XDYyLPCa1mzY"
      },
      "source": [
        "# ತೆಲುಗು ಹಿಂದವಿ ನೋಟ್ಬುಕ್ ಪರಿಚಯ\n",
        "# Introduction to Telugu Hindawi Notebook\n"
      ]
    },
    {
      "cell_type": "code",
      "metadata": {
        "colab": {
          "base_uri": "https://localhost:8080/",
          "height": 335
        },
        "id": "zrmDTStc57gQ",
        "outputId": "170046cd-7593-44ef-84f0-1befd2f0a500"
      },
      "source": [
        "\n",
        "#@markdown ###### **👈🏾 వీడియో ప్రదర్శించడానికి ప్లే బటన్ (▶) పై క్లిక్ చేయండి 👈🏾**<br>\n",
        "\n",
        "%%html\n",
        "<iframe width=\"560\" height=\"315\" src=\"https://www.youtube.com/embed/xYNXY8eWCsw\" title=\"YouTube video player\" frameborder=\"0\" allow=\"accelerometer; autoplay; clipboard-write; encrypted-media; gyroscope; picture-in-picture\" allowfullscreen></iframe>"
      ],
      "execution_count": null,
      "outputs": [
        {
          "output_type": "display_data",
          "data": {
            "text/html": [
              "<iframe width=\"560\" height=\"315\" src=\"https://www.youtube.com/embed/xYNXY8eWCsw\" title=\"YouTube video player\" frameborder=\"0\" allow=\"accelerometer; autoplay; clipboard-write; encrypted-media; gyroscope; picture-in-picture\" allowfullscreen></iframe>"
            ],
            "text/plain": [
              "<IPython.core.display.HTML object>"
            ]
          },
          "metadata": {}
        }
      ]
    },
    {
      "cell_type": "markdown",
      "metadata": {
        "id": "yYc5p2xhYS7i"
      },
      "source": [
        "#ಹಿಂದಾವಿಯ ಪರಿಚಯ(Introduction to Hindawi)\n",
        "\n",
        "ಹಿಂದಾವಿ ಪ್ರೋಗ್ರಾಮಿಂಗ್ ಸಿಸ್ಟಂ ಪ್ರಾಥಮಿಕ ಹಂತದಿಂದ ಗೇಟ್ ಕಂಪ್ಯೂಟರ್ ಎಂಜಿನಿಯರಿಂಗ್ ಹಂತದವರೆಗೆ ಮಾತೃಭಾಷೆಯಲ್ಲಿ ಪ್ರೋಗ್ರಾಮಿಂಗ್ ಕಾರ್ಯಸಾಧ್ಯವಾಗಿಸುತ್ತದೆ. ಹಿಂಡಾವಿಯನ್ನು ಸೂಪರ್‌ಕಂಪ್ಯೂಟಿಂಗ್, ಐಒಟಿ, ರೋಬೋಟಿಕ್ಸ್, ಕೃತಕ ಬುದ್ಧಿಮತ್ತೆ, ಕ್ವಾಂಟಮ್ ಕಂಪ್ಯೂಟಿಂಗ್ ಮತ್ತು ಡಿಎನ್‌ಎ ಕಂಪ್ಯೂಟಿಂಗ್‌ನಲ್ಲಿ ಮಾತೃಭಾಷೆಯಲ್ಲಿ ಸಂಶೋಧನೆ ಮತ್ತು ಪ್ರೋಗ್ರಾಮಿಂಗ್ ಕಾರ್ಯಸಾಧ್ಯ. ಇದು ಕನಸಲ್ಲ - ಇದು ವಾಸ್ತವ! ಇದೀಗ ಅದನ್ನು ಆನ್‌ಲೈನ್‌ನಲ್ಲಿ ಪರಿಶೀಲಿಸಿ. ಯಾವುದೇ ಡಿಜಿಟಲ್ ಡಿವೈಡ್, ಕಾಗ್ನಿಟಿವ್ ಡಿವೈಡ್ (ಮಾತೃಭಾಷೆಯನ್ನು ಬಳಸಿಕೊಂಡು ಎಐ ಅಭಿವೃದ್ಧಿಪಡಿಸಲು ಅಸಮರ್ಥತೆ) ಅಥವಾ ಭಾಷಾ ವಿಭಜನೆಯಿಲ್ಲದೆ ತಾಂತ್ರಿಕ ಏಕತ್ವವನ್ನು ಸಮೀಪಿಸೋಣ.\n",
        "\n",
        "ಹಕ್ಕುತ್ಯಾಗ: ಗೇಟಿ ಅನ್ನು ಹಿಂದವಿ ಪ್ರೋಗ್ರಾಮಿಂಗ್ ವ್ಯವಸ್ಥೆಯ ಸಂಪೂರ್ಣತೆಯನ್ನು ಉಲ್ಲೇಖಿಸಿ ಮಾತ್ರ ಉಲ್ಲೇಖಿಸಲಾಗಿದೆ. ನಾವು GATE ಪರೀಕ್ಷೆಗಳ ನಡವಳಿಕೆಯೊಂದಿಗೆ ಸಂಬಂಧ ಹೊಂದಿಲ್ಲ. 2021 ರ ಹೊತ್ತಿಗೆ ಗೇಟ್ ಸಿಎಸ್‌ಇ ಪ್ರೋಗ್ರಾಮಿಂಗ್ ಭಾಷೆಗಳ ಪ್ರಮಾಣಿತ ರೂಪಗಳನ್ನು ಮಾತ್ರ ಬಳಸುತ್ತದೆಯೇ ಹೊರತು ಹಿಂದಿ ಆವೃತ್ತಿಯಲ್ಲ. ಈ ಉಪಯುಕ್ತತೆಯ ಲೇಖಕರು ಬಾಹ್ಯ ಲಿಂಕ್‌ಗಳನ್ನು ನಿಯಂತ್ರಿಸುವುದಿಲ್ಲ.\n",
        "\n",
        "\n",
        "\n"
      ]
    },
    {
      "cell_type": "markdown",
      "metadata": {
        "id": "FIS6ImgwoUKp"
      },
      "source": [
        "Hindawi Programming System makes programming feasible in mother tongue from primary levels to GATE Computer Engineering level. Research and programming is feasible using Hindawi in supercomputing, IoT, robotics, artificial intelligence, quantum computing and also DNA computing is possible in mother tongue. This is not a dream - its a reality! Verify it online right now. Lets approach the technological singularity without any digital divide, cognitive divide (inability of developing AI using mother tongue), or linguistic divide.\n",
        "\n",
        "Disclaimer: GATE is only mentioned with reference to the completeness of Hindawi Programming System. We are not associated with conduct of the GATE examinations. As of 2021 GATE CSE only uses the standard forms of the programming languages and not the Hindi version. External links are not controlled by the authors of this utility."
      ]
    },
    {
      "cell_type": "markdown",
      "metadata": {
        "id": "T-Qua1WBEtvM"
      },
      "source": [
        "#*ಆರಂಭಿಸಿ(Initialize)*\n",
        "\n",
        "ಇದು ಜುಪಿಟರ್ ನೋಟ್ಬುಕ್ ಪರಿಸರದಲ್ಲಿ ಹಿಂಡಾವಿಯನ್ನು ಸಕ್ರಿಯಗೊಳಿಸುತ್ತದೆ. ನಿಧಾನವಾದ ವ್ಯವಸ್ಥೆಗಳಲ್ಲಿ ಇದು ಕೆಲವು ನಿಮಿಷಗಳನ್ನು ತೆಗೆದುಕೊಳ್ಳಬಹುದು. ಹೆಚ್ಚಿನ ಮೋಡದ ಪರಿಸರದಲ್ಲಿ ಇದು ಕೆಲವು ಸೆಕೆಂಡುಗಳಲ್ಲಿ ಪೂರ್ಣಗೊಳ್ಳುತ್ತದೆ.\n",
        "\n",
        "This enables Hindawi in the Jupyter notebook environment. It may take a few minutes on slower systems. On most cloud environments this completes in few seconds.\n",
        "\n",
        "👈 ಈ ಸೆಲ್ ಅನ್ನು ಸಕ್ರಿಯಗೊಳಿಸಲು ಪ್ಲೇ ಬಟನ್ () ಒತ್ತಿರಿ"
      ]
    },
    {
      "cell_type": "code",
      "metadata": {
        "id": "fEf5G-CzMb3M",
        "colab": {
          "base_uri": "https://localhost:8080/"
        },
        "outputId": "448a144f-6b85-43ac-e356-40ff09bf0846"
      },
      "source": [
        "#@title సంస్థాపన (Installation) { vertical-output: true }\n",
        "#@markdown 👈 ಈ ಸೆಲ್ ಅನ್ನು ಪ್ಲೇ ಮಾಡಲು ಪ್ಲೇ ಬಟನ್ (▶) ಒತ್ತಿರಿ\n",
        "#@markdown <br>\n",
        "#@markdown ಇತರ ಕೋಶಗಳನ್ನು ಬಳಸುವ ಮೊದಲು ಇದನ್ನು ಒಮ್ಮೆಯಾದರೂ ಚಲಾಯಿಸಬೇಕು\n",
        "#@markdown <br>\n",
        "#@markdown This must be run at least once before the other cells can be used\n",
        "%%shell\n",
        " \n",
        "#Installing prerequisites...\n",
        "printf \"ముందస్తు అవసరాలను ఇన్‌స్టాల్ చేస్తోంది ... \"\n",
        "sudo apt install gawk flex bison php-iconv screen &>/dev/null\n",
        "#Done\n",
        "echo \"పూర్తయింది\"\n",
        " \n",
        "printf \"Hindawi2020 రిపోజిటరీ క్లోన్ చేయబడుతోంది... \"\n",
        "git clone https://github.com/hindawiai/chintamani hindawi2020 &>/dev/null\n",
        "#Done\n",
        "echo \"పూర్తయింది\"\n",
        " \n",
        "if [ 0 -lt $(pip3 freeze | grep google.colab | wc -l) ]\n",
        "then\n",
        "  #Executing preamble for non-docker platforms...\n",
        "  echo \"ఉపోద్ఘాతాన్ని అమలు చేస్తోంది\"\n",
        "  cd hindawi2020\n",
        " \n",
        "  git checkout telugu\n",
        "\n",
        "  for n in Romenagri\\\n",
        "          Hindawi/guru Hindawi/hindrv Hindawi/kritrima Hindawi/praatha\\\n",
        "          Hindawi/shabda Hindawi/shraeni Hindawi/wyaaka Hindawi/yantra\\\n",
        "          Hindawi/others/fasm Hindawi/soochee;\n",
        "  do\n",
        "    pushd $n &>/dev/null\n",
        "    #Building in $n...\n",
        "    printf \"$n లో ప్రోగ్రామ్‌ను కంపైల్ చేస్తోంది ... \"\n",
        "    make all &>/dev/null\n",
        "    make install &>/dev/null\n",
        "    make clean_all &>/dev/null\n",
        "    #Done\n",
        "    echo \"పూర్తయింది\"\n",
        "    popd &>/dev/null\n",
        "  done\n",
        "  #Completed preamble for non-docker platforms.\n",
        "  echo \"ముందుమాట పూర్తయింది\"\n",
        "fi\n",
        "#TBD: APCISR not built"
      ],
      "execution_count": null,
      "outputs": [
        {
          "output_type": "stream",
          "name": "stdout",
          "text": [
            "ముందస్తు అవసరాలను ఇన్‌స్టాల్ చేస్తోంది ... పూర్తయింది\n",
            "Hindawi2020 రిపోజిటరీ క్లోన్ చేయబడుతోంది... పూర్తయింది\n",
            "ఉపోద్ఘాతాన్ని అమలు చేస్తోంది\n",
            "Branch 'telugu' set up to track remote branch 'telugu' from 'origin'.\n",
            "Switched to a new branch 'telugu'\n",
            "Romenagri లో ప్రోగ్రామ్‌ను కంపైల్ చేస్తోంది ... పూర్తయింది\n",
            "Hindawi/guru లో ప్రోగ్రామ్‌ను కంపైల్ చేస్తోంది ... పూర్తయింది\n",
            "Hindawi/hindrv లో ప్రోగ్రామ్‌ను కంపైల్ చేస్తోంది ... పూర్తయింది\n",
            "Hindawi/kritrima లో ప్రోగ్రామ్‌ను కంపైల్ చేస్తోంది ... పూర్తయింది\n",
            "Hindawi/praatha లో ప్రోగ్రామ్‌ను కంపైల్ చేస్తోంది ... పూర్తయింది\n",
            "Hindawi/shabda లో ప్రోగ్రామ్‌ను కంపైల్ చేస్తోంది ... పూర్తయింది\n",
            "Hindawi/shraeni లో ప్రోగ్రామ్‌ను కంపైల్ చేస్తోంది ... పూర్తయింది\n",
            "Hindawi/wyaaka లో ప్రోగ్రామ్‌ను కంపైల్ చేస్తోంది ... పూర్తయింది\n",
            "Hindawi/yantra లో ప్రోగ్రామ్‌ను కంపైల్ చేస్తోంది ... పూర్తయింది\n",
            "Hindawi/others/fasm లో ప్రోగ్రామ్‌ను కంపైల్ చేస్తోంది ... పూర్తయింది\n",
            "Hindawi/soochee లో ప్రోగ్రామ్‌ను కంపైల్ చేస్తోంది ... పూర్తయింది\n",
            "ముందుమాట పూర్తయింది\n"
          ]
        },
        {
          "output_type": "execute_result",
          "data": {
            "text/plain": [
              ""
            ]
          },
          "metadata": {},
          "execution_count": 4
        }
      ]
    },
    {
      "cell_type": "markdown",
      "metadata": {
        "id": "L6aQqaL9LFad"
      },
      "source": [
        "# \"ಪೈಥಾನ್ ನಲ್ಲಿ ಇನ್ಪುಟ್, ಔಟ್ ಪುಟ್ ಮತ್ತು ಪ್ರಿಂಟ್ \" (\"Input, Output and Print in Python\")"
      ]
    },
    {
      "cell_type": "code",
      "metadata": {
        "id": "yn6T0cS0PPMK",
        "colab": {
          "base_uri": "https://localhost:8080/",
          "height": 335
        },
        "cellView": "form",
        "outputId": "6e7076f8-cb8b-4e26-f01c-92457bce799c"
      },
      "source": [
        "#@markdown ###### **👈🏾 ವೀಡಿಯೊ ಪ್ರದರ್ಶಿಸಲು ಪ್ಲೇ ಬಟನ್ (▶) ಮೇಲೆ ಕ್ಲಿಕ್ ಮಾಡಿ 👈🏾**<br>\n",
        "\n",
        "%%html\n",
        "<iframe width=\"560\" height=\"315\" src=\"https://www.youtube.com/embed/EP0cHLAuln0?start=3\" title=\"YouTube video player\" frameborder=\"0\" allow=\"accelerometer; autoplay; clipboard-write; encrypted-media; gyroscope; picture-in-picture\" allowfullscreen></iframe>"
      ],
      "execution_count": null,
      "outputs": [
        {
          "output_type": "display_data",
          "data": {
            "text/html": [
              "<iframe width=\"560\" height=\"315\" src=\"https://www.youtube.com/embed/EP0cHLAuln0?start=3\" title=\"YouTube video player\" frameborder=\"0\" allow=\"accelerometer; autoplay; clipboard-write; encrypted-media; gyroscope; picture-in-picture\" allowfullscreen></iframe>"
            ],
            "text/plain": [
              "<IPython.core.display.HTML object>"
            ]
          },
          "metadata": {}
        }
      ]
    },
    {
      "cell_type": "markdown",
      "metadata": {
        "id": "R_33KyYql-pO"
      },
      "source": [
        "# ತೆಲುಗಿನಲ್ಲಿ ಪೈಥಾನ್ ಕುರಿತು ಕೋರ್ಸ್ (Course on Python in Telugu)"
      ]
    },
    {
      "cell_type": "code",
      "metadata": {
        "colab": {
          "base_uri": "https://localhost:8080/",
          "height": 821
        },
        "id": "MlYgJf4_l2uZ",
        "outputId": "c44234d7-dd3d-4683-eef1-ff6840af33e6"
      },
      "source": [
        "#@title ఇక్కడ నమోదు చేసుకోండి (Enroll here)\n",
        "\n",
        "## Lesson\n",
        "#@markdown ###### **👈🏾 ವಿಷಯವನ್ನು ಪ್ರದರ್ಶಿಸಲು ಪ್ಲೇ ಬಟನ್ () ಮೇಲೆ ಕ್ಲಿಕ್ ಮಾಡಿ👈🏾**<br>\n",
        "#@markdown ##### ದಯವಿಟ್ಟು ನಿಮ್ಮ ಜಿಮೇಲ್ ಬಳಸಿ ಮುಂದಿನ ಎಂಬೆಡೆಡ್ ಕೋರ್ಸ್‌ಗೆ ದಾಖಲಾಗಿರಿ\n",
        "\n",
        "#@markdown ###### **👈🏾 Click on ( ▶ ) the play button to display content👈🏾**<br>\n",
        "#@markdown ##### Please register on the course embedded in the next cell using your Gmail \n",
        "from IPython.display import IFrame\n",
        "IFrame('https://ayeai.xyz/site/','1000','800')"
      ],
      "execution_count": null,
      "outputs": [
        {
          "output_type": "execute_result",
          "data": {
            "text/html": [
              "\n",
              "        <iframe\n",
              "            width=\"1000\"\n",
              "            height=\"800\"\n",
              "            src=\"https://ayeai.xyz/site/\"\n",
              "            frameborder=\"0\"\n",
              "            allowfullscreen\n",
              "        ></iframe>\n",
              "        "
            ],
            "text/plain": [
              "<IPython.lib.display.IFrame at 0x7fa89887e0d0>"
            ]
          },
          "metadata": {},
          "execution_count": 6
        }
      ]
    },
    {
      "cell_type": "markdown",
      "metadata": {
        "id": "0GHh6DaKOqIH"
      },
      "source": [
        "# ಸಲಕರಣೆ ಪ್ರದೇಶ (Practice Area)\n"
      ]
    },
    {
      "cell_type": "markdown",
      "metadata": {
        "id": "G8rn72FkE3az"
      },
      "source": [
        "## \"ಪ್ರಿಂಟ್\" ಆಜ್ಞೆಯಲ್ಲಿ ಉದಾಹರಣೆ ಪ್ರೋಗ್ರಾಂ (Example program for \"print\" command)\n",
        "\n",
        "ತೆಲುಗು ಪೈಥಾನ್ ನಲ್ಲಿ \"ಪ್ರಿಂಟ್\" ಕೀವರ್ಡ್ ಅನ್ನು \"ಪ್ರಿಂಟ್\" ಎಂದು ಅನುವಾದಿಸಲಾಗಿದೆ\n",
        "In telugu python \"print\" keyword is translated to \"ముద్రించు\""
      ]
    },
    {
      "cell_type": "code",
      "metadata": {
        "colab": {
          "base_uri": "https://localhost:8080/"
        },
        "id": "47QF5pNmJgpM",
        "outputId": "69622f90-7409-473d-cfb1-e384b61457ce"
      },
      "source": [
        "#@title **ತೆಲುಗು ಪೈಥಾನ್ ಕಾರ್ಯಕ್ರಮದ ಸಂಪಾದನೆ(program editing)**\n",
        "#@markdown ಸಂಪಾದಿಸಲು __enter__ ಅನ್ನು ಡಬಲ್ ಕ್ಲಿಕ್ ಮಾಡಿ ಅಥವಾ ಎಡಿಟ್ ಮಾಡಿ\n",
        "#@markdown <br>\n",
        "#@markdown Double-click or press __Enter__ to edit\n",
        "%%writefile hindawi2020/Hindawi/soochee/myPY.uhin\n",
        "# ಈ ಸಾಲಿನ ಕೆಳಗೆ ನಿಮ್ಮ ಕೋಡ್ ಬರೆಯಿರಿ\n",
        "#Input/output/print. \n",
        "\n",
        "# ಕಂಪ್ಯೂಟರ್ ತೆಗೆದುಕೊಳ್ಳುವ ಮಾಹಿತಿಯನ್ನು \"ಇನ್ಪುಟ್\" ಎಂದು ಕರೆಯಲಾಗುತ್ತದೆ ಮತ್ತು ಸಂಸ್ಕರಿಸಿದ ಫಲಿತಾಂಶವನ್ನು \"ಔಟ್ಪುಟ್\" ಎಂದು ಕರೆಯಲಾಗುತ್ತದೆ\n",
        "# ಮೂಲಮಾದರಿಯ ಔಟ್ಪುಟ್ ಅನ್ನು ನಾವು ನೋಡುವಂತೆ ಪರದೆಯ ಮೇಲೆ ಮುದ್ರಿಸಲಾಗಿದೆ ಎಂದು ಸೂಚಿಸಲು ನಾವು \"ಪ್ರಿಂಟ್\" ಅನ್ನು ಬಳಸುತ್ತೇವೆ.\n",
        "# The information recieved by the computer is \"input\" and the results it \n",
        "# displays after processing is output. To make computer display an output we \n",
        "# use the command \"Print\"\n",
        "\n",
        "#ಉದಾಹರಣೆ:\n",
        "#Example:\n",
        "ముద్రించు(\"ఇది, నమూనా, అవుట్‌పుట్\")\n",
        "\n",
        "# ಪರಿಕಲ್ಪನೆ ಸೂಚನೆ:\n",
        "# \"ಮುದ್ರಣ\" ಎಂದರೆ ಕೆಲವು ಮಾಹಿತಿಯನ್ನು ಡಿಸ್‌ಪ್ಲೇಯಲ್ಲಿರುವ ಔಟ್‌ಪುಟ್‌ಗೆ ಆ ಮಾಹಿತಿಯನ್ನು ನೀಡುವುದು.\n",
        "# ಸಾಂಪ್ರದಾಯಿಕವಾಗಿ, IO ಬಳಸುವ ಪ್ರಿಂಟರ್‌ಗಳಿಗಾಗಿ ಕಂಪ್ಯೂಟರ್ ಇಂಟರ್‌ಫೇಸ್‌ಗಳು. ಆದ್ದರಿಂದ, ಸಹ\n",
        "# ಮಾನಿಟರ್‌ನಂತಹ ಮಾಹಿತಿಯನ್ನು ವೀಡಿಯೊ ಪರದೆಯ ಮೇಲೆ ಪ್ರದರ್ಶಿಸಲಾಗುತ್ತದೆ\n",
        "# ಇದನ್ನು ಮುದ್ರಿಸುವುದು ಆಜ್ಞೆಯಾಗಿದೆ\n",
        "\n",
        "# Concept note:\n",
        "# To \"print\" some information is to output that information on a display.\n",
        "# Traditionally, computer interfaces for IO used printers. Hence, even if\n",
        "# the information is displayed on a video screen such as a monitor, the \n",
        "# command is to print it\n",
        "\n",
        "\n",
        "\n",
        "# ಪೈಥಾನ್‌ನಲ್ಲಿ ಕೆಲವು ಮಾಹಿತಿಯನ್ನು ಮುದ್ರಿಸಲು, \"ಪ್ರಿಂಟ್\" ಆಜ್ಞೆಯನ್ನು ಬಳಸಿ\n",
        "# To print some information in Python, use the command \"print\"\n",
        "\n",
        "\n"
      ],
      "execution_count": null,
      "outputs": [
        {
          "output_type": "stream",
          "name": "stdout",
          "text": [
            "Writing hindawi2020/Hindawi/soochee/myPY.uhin\n"
          ]
        }
      ]
    },
    {
      "cell_type": "code",
      "metadata": {
        "colab": {
          "base_uri": "https://localhost:8080/"
        },
        "id": "qoCVGZ2tKNW3",
        "outputId": "c05f1326-5935-4dbd-f9d7-c187fd10ee50"
      },
      "source": [
        "%%shell\n",
        "#@title ### **ಶೈಲಿಯ ಪ್ರಾಥಮಿಕ ಕಾರ್ಯಕ್ರಮದ ಕಾರ್ಯಗತಗೊಳಿಸುವಿಕೆ(program execution)**\n",
        "#@markdown ### ಈ ನೋಟ್ಬುಕ್ನ ಫೈಲ್ ಬ್ರೌಸರ್ ಬಳಸಿ ಸಂಕಲಿಸಿದ ಪ್ರೋಗ್ರಾಂ ಅನ್ನು ಡೌನ್ಲೋಡ್ ಮಾಡಬಹುದು. ಫೈಲ್ hin.exe\n",
        "#@markdown <br>\n",
        "#Do not edit below this line\n",
        "#ಈ ಸಾಲಿನ ಕೆಳಗೆ ಸಂಪಾದಿಸಬೇಡಿ\n",
        "cd hindawi2020/Hindawi/soochee/\n",
        "./hinpy myPY.uhin"
      ],
      "execution_count": null,
      "outputs": [
        {
          "output_type": "stream",
          "name": "stdout",
          "text": [
            "ఇది, నమूనా, అవుట్\fపుట్\n"
          ]
        },
        {
          "output_type": "execute_result",
          "data": {
            "text/plain": [
              ""
            ]
          },
          "metadata": {},
          "execution_count": 8
        }
      ]
    },
    {
      "cell_type": "markdown",
      "metadata": {
        "id": "utA4hZ7_BFgN"
      },
      "source": [
        "# ಹಿಂದಿ ವೆಬ್‌ಸೈಟ್‌ಗೆ ಭೇಟಿ ನೀಡಿ\n",
        "# Visit Hindawi website \n",
        "ಹಿಂದವಿ ಪ್ರೋಗ್ರಾಮಿಂಗ್ ಸಿಸ್ಟಮ್ ಬಗ್ಗೆ ಹೆಚ್ಚಿನ ಅಪ್‌ಡೇಟ್‌ಗಳಿಗಾಗಿ https://hindawiai.github.io/ ಭೇಟಿ\n",
        "For more updates on Hindawi Programming System visit https://hindawiai.github.io/"
      ]
    },
    {
      "cell_type": "code",
      "metadata": {
        "colab": {
          "base_uri": "https://localhost:8080/",
          "height": 425
        },
        "id": "hP7jjq5eAIsf",
        "outputId": "2f1b170c-714a-4a6c-d098-55cfd0ac7108"
      },
      "source": [
        "\n",
        "#@markdown ###### **👈🏾 ವೀಡಿಯೊ ಪ್ರದರ್ಶಿಸಲು ಪ್ಲೇ ಬಟನ್ (▶) ಮೇಲೆ ಕ್ಲಿಕ್ ಮಾಡಿ 👈🏾**<br>\n",
        "\n",
        "%%html\n",
        "<iframe width=\"1100\" height=\"400\" src=\"https://hindawiai.github.io/\" allowfullscreen></iframe>"
      ],
      "execution_count": null,
      "outputs": [
        {
          "output_type": "display_data",
          "data": {
            "text/html": [
              "<iframe width=\"1100\" height=\"400\" src=\"https://hindawiai.github.io/\" allowfullscreen></iframe>"
            ],
            "text/plain": [
              "<IPython.core.display.HTML object>"
            ]
          },
          "metadata": {}
        }
      ]
    }
  ]
}